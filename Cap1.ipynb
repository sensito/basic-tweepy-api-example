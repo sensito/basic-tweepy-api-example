{
 "cells": [
  {
   "cell_type": "markdown",
   "metadata": {},
   "source": [
    "## **Título**: Inicio en Twiter\n",
    "---\n",
    "\n",
    "<div class=\"alert alert-info\" role=\"alert\">\n",
    "<p><strong>Cuaderno de herramientas necesarias </strong></p>\n",
    "<p><strong>Autor</strong>: Daniel Ivan Medina Barreras </p>\n",
    "<p><strong>Fecha</strong>: 20200730</p>\n",
    "<p></p>\n",
    "<p><strong>Referencia</strong>: cap1.ipynb</p>\n",
    "<p> <strong>Descripción</strong> : Se realiza una pequeña demo de las herramientas necesarias</p>\n",
    "</div>"
   ]
  },
  {
   "cell_type": "markdown",
   "metadata": {},
   "source": [
    "<img src='./images/twitter-logo-1-1.png'>\n",
    "<h1><center>Twitter</center><h1>\n",
    "    \n",
    "# 1. <a id='Introduction'>Introduccion 🃏 </a>\n",
    "    \n",
    "###  1.1 <a id='What_is_it'>Analisis de datos de Twitter con python</a> \n",
    "* Twitter ofrece un servicio que permite a las personas conectarse a través de la web, mensajería instantánea y SMS. Twitter expone una API de servicios web y esta biblioteca está destinada a facilitar aún más el uso de los programadores de Python.\n",
    "    \n",
    "    Para saber mas ver: [Twitter](https://python-twitter.readthedocs.io/en/latest/)"
   ]
  },
  {
   "cell_type": "markdown",
   "metadata": {},
   "source": [
    "## <font size='5' color='blue'>Contenidos</font> \n",
    "\n",
    "\n",
    "\n",
    "* [Introduccion](#Introduction)  \n",
    "    * [Analisis de datos de Twitter con python](#What_is_it)\n",
    "    \n",
    " \n",
    "* [Demo gensim](#demo_gensim)    \n",
    "  \n",
    "* [Demo JSON](#demo_json)    \n",
    "\n",
    "* [Demo matplotlib](#demo_matplotlib)     \n",
    "  \n",
    "* [Demo networkx](#demo_networkx)     \n",
    "  \n",
    "* [Demo Numpy](#demo_numpy)\n",
    "* [Demo sklearn](#demo_sklearn)"
   ]
  },
  {
   "cell_type": "markdown",
   "metadata": {},
   "source": [
    "# 2. <a id='demo_gensim'>demo gensim 📕</a>\n",
    "---\n",
    "\n",
    "**Instalación**\n",
    "\n",
    "> ``conda install -c anaconda gensim``\n",
    " \n",
    "**Descripción**\n",
    "\n",
    "\n",
    "**Gensim** es una biblioteca de Python para modelado de temas, indexación de documentos y recuperación de similitudes con grandes corpus. El público objetivo es la comunidad de procesamiento del lenguaje natural (PNL) y recuperación de información (IR).\n",
    "\n",
    "**Link**\n",
    "\n",
    "[gensim](https://radimrehurek.com/gensim/auto_examples/index.html)\n",
    "\n",
    "---"
   ]
  },
  {
   "cell_type": "code",
   "execution_count": 22,
   "metadata": {},
   "outputs": [
    {
     "name": "stdout",
     "output_type": "stream",
     "text": [
      "1) \"\"\"Entry point for launching an IPython kernel.\n",
      "2) This is separate from the ipykernel package so we can avoid doing imports until\n",
      "3) after removing the cwd from sys.path.\n",
      "4) import sys\n",
      "5) if __name__ == '__main__':\n",
      "6) # Remove the CWD from sys.path while we load stuff.\n",
      "7) # This is added back by InteractiveShellApp.init_path()\n",
      "8) if sys.path[0] == '':\n",
      "9) del sys.path[0]\n",
      "10) from ipykernel import kernelapp as app\n",
      "11) app.launch_new_instance()\n"
     ]
    }
   ],
   "source": [
    "from gensim.summarization import summarize\n",
    "import sys\n",
    "\n",
    "fname = sys.argv[0]\n",
    "\n",
    "with open(fname, 'r') as f:\n",
    "    content = f.read()\n",
    "    summary = summarize(content, split=True, word_count=100)\n",
    "    for i, sentence in enumerate(summary):\n",
    "        print(\"%d) %s\" % (i+1, sentence))"
   ]
  },
  {
   "cell_type": "markdown",
   "metadata": {},
   "source": [
    "# 3. <a id='demo_json'>Demo JSON 📘</a>\n",
    "---\n",
    "\n",
    "\n",
    "\n",
    "\n",
    "**Instalación**\n",
    "\n",
    "> Viene con la instalacon de PYTHON\n",
    "\n",
    "**Descripción**\n",
    "\n",
    "Python tiene este paquete incorporado llamado json, que puede usarse para trabajar con datos JSON.\n",
    "\n",
    "**JSON** (JavaScript Object Notation), especificado por RFC 7159 (que obsoleto RFC 4627) y por ECMA-404, es un formato de intercambio de datos ligero inspirado en la sintaxis literal de objetos JavaScript (aunque no es un subconjunto estricto de JavaScript 1).\n",
    "\n",
    "json expone una API familiar para los usuarios de los módulos estándar de mariscal y encurtidos de la biblioteca.\n",
    "\n",
    "**Link**\n",
    "\n",
    "[JSON](https://docs.python.org/3/library/json.html)\n",
    "\n",
    "---"
   ]
  },
  {
   "cell_type": "code",
   "execution_count": 23,
   "metadata": {},
   "outputs": [
    {
     "name": "stdout",
     "output_type": "stream",
     "text": [
      "Marco\n"
     ]
    }
   ],
   "source": [
    "import json\n",
    "\n",
    "user_json = '{\"user_id\": \"1\", \"name\": \"Marco\"}'\n",
    "user_data = json.loads(user_json)\n",
    "print(user_data['name'])"
   ]
  },
  {
   "cell_type": "markdown",
   "metadata": {},
   "source": [
    "Estructura   \n",
    "\n",
    "   ```JSON\n",
    "    Output: \n",
    "    {\n",
    "        \"user_id\": \"1\",\n",
    "        \"name\": \"Marco\",\n",
    "        \"likes\": [\n",
    "            \"Python\",\n",
    "            \"Data Mining\"\n",
    "        ]\n",
    "    }\n",
    "    ```"
   ]
  },
  {
   "cell_type": "code",
   "execution_count": 24,
   "metadata": {},
   "outputs": [
    {
     "name": "stdout",
     "output_type": "stream",
     "text": [
      "{\n",
      "    \"user_id\": \"1\",\n",
      "    \"name\": \"Marco\",\n",
      "    \"likes\": [\n",
      "        \"Python\",\n",
      "        \"Data Mining\"\n",
      "    ]\n",
      "}\n"
     ]
    }
   ],
   "source": [
    "# Output: Marco\n",
    "user_data['likes'] = ['Python', 'Data Mining']\n",
    "user_json = json.dumps(user_data, indent=4)\n",
    "print(user_json)"
   ]
  },
  {
   "cell_type": "markdown",
   "metadata": {},
   "source": [
    "### 4. <a id='demo_matplotlib'><strong>Demo matplotlib 🖼️ </strong></a>\n",
    "---\n",
    "\n",
    "\n",
    "**Instalación**\n",
    "\n",
    ">``conda install -c conda-forge -y matplotlib``\n",
    "\n",
    "**Descripción**\n",
    "\n",
    "Matplotlib es una biblioteca para la generación de gráficos a partir de datos contenidos en listas o arreglos en el lenguaje de programación Python y su extensión matemática NumPy. \n",
    "\n",
    "Por medio del comando mágico ``%matplotlib inline`` se indica que los despliegues gráficos de la biblioteca matplotlib se despliegan en el cuaderno Jupyter directamente.\n",
    "\n",
    "**Link**\n",
    "\n",
    "[Matplotlib](https://matplotlib.org/)\n",
    "\n",
    "---"
   ]
  },
  {
   "cell_type": "code",
   "execution_count": 25,
   "metadata": {},
   "outputs": [
    {
     "data": {
      "image/png": "[encoded data removed]",
      "text/plain": [
       "<Figure size 432x288 with 1 Axes>"
      ]
     },
     "metadata": {
      "needs_background": "light"
     },
     "output_type": "display_data"
    }
   ],
   "source": [
    "import matplotlib.pyplot as plt\n",
    "import numpy as np\n",
    "\n",
    "# plot y = x^2 with red dots\n",
    "x = np.array([1, 2, 3, 4, 5])\n",
    "y = x * x\n",
    "plt.title('Demo')\n",
    "plt.plot(x, y, 'ro')\n",
    "plt.axis([0, 6, 0, 30])\n",
    "plt.savefig('./images/demo_plot.png')\n",
    "plt.tight_layout()"
   ]
  },
  {
   "cell_type": "markdown",
   "metadata": {},
   "source": [
    "# 5. <a id='demo_networkx'>Demo networkx 🕸️</a>\n",
    "---\n",
    "\n",
    "**Instalación**\n",
    "\n",
    "> `` conda install -c anaconda networkx ``\n",
    "\n",
    "**Descripción**\n",
    "\n",
    "NetworkX es un paquete de Python para la creación, manipulación y estudio de la estructura, dinámica y funciones de redes complejas.\n",
    "\n",
    "**Link**\n",
    "\n",
    "[networkx](https://networkx.github.io/)\n",
    "\n",
    "---"
   ]
  },
  {
   "cell_type": "code",
   "execution_count": 4,
   "metadata": {},
   "outputs": [],
   "source": [
    "import networkx as nx\n",
    "from datetime import datetime\n",
    "\n",
    "g = nx.Graph()\n",
    "g.add_node('Anu', name='Anu', age=30)\n",
    "g.add_node(\"Peter\", name= 'Peter', age= 35)\n",
    "g.add_node(\"Mary\", name='Mary', age= 31)\n",
    "g.add_node(\"Lucy\", name= 'Lucy', age= 19)\n",
    "\n",
    "g.add_edge(\"John\", \"Mary\", type= 'friend', since= datetime.today())\n",
    "g.add_edge(\"John\", \"Peter\", type= 'friend', since= datetime(1990, 7, 30))\n",
    "g.add_edge(\"Mary\", \"Lucy\", type= 'friend', since= datetime(2010, 8, 10))"
   ]
  },
  {
   "cell_type": "code",
   "execution_count": 5,
   "metadata": {},
   "outputs": [
    {
     "data": {
      "text/plain": [
       "NodeView(('Anu', 'Peter', 'Mary', 'Lucy', 'John'))"
      ]
     },
     "execution_count": 5,
     "metadata": {},
     "output_type": "execute_result"
    }
   ],
   "source": [
    "g.nodes()"
   ]
  },
  {
   "cell_type": "code",
   "execution_count": 6,
   "metadata": {},
   "outputs": [
    {
     "data": {
      "text/plain": [
       "EdgeView([('Peter', 'John'), ('Mary', 'John'), ('Mary', 'Lucy')])"
      ]
     },
     "execution_count": 6,
     "metadata": {},
     "output_type": "execute_result"
    }
   ],
   "source": [
    "g.edges()"
   ]
  },
  {
   "cell_type": "code",
   "execution_count": 7,
   "metadata": {},
   "outputs": [
    {
     "data": {
      "text/plain": [
       "True"
      ]
     },
     "execution_count": 7,
     "metadata": {},
     "output_type": "execute_result"
    }
   ],
   "source": [
    "g.has_edge(\"Lucy\", \"Mary\")"
   ]
  },
  {
   "cell_type": "markdown",
   "metadata": {},
   "source": [
    "## 6. <a id='demo_numpy'>Demo numpy 🔢</a>\n",
    "---\n",
    "**Instalación**\n",
    "\n",
    "> ``conda install -c anaconda -y numpy``\n",
    "\n",
    "**Descripción**\n",
    "\n",
    "Numpy es una biblioteca para el lenguaje de programación Python que (entre otras cosas) brinda soporte para grandes matrices multidimensionales.\n",
    "\n",
    "¿Por qué es eso importante? Usando NumPy, podemos expresar imágenes como matrices multidimensionales.\n",
    "\n",
    "Representar imágenes como matrices NumPy no solo es computacional y eficiente en el uso de recursos, sino que muchas otras bibliotecas de procesamiento de imágenes y aprendizaje automático también usan representaciones de matrices NumPy. Además, al usar las funciones matemáticas de alto nivel incorporadas de NumPy, podemos realizar rápidamente análisis numéricos en una imagen.\n",
    "\n",
    "**Link**\n",
    "\n",
    "[Numpy](https://numpy.org/)\n",
    "\n",
    "---"
   ]
  },
  {
   "cell_type": "code",
   "execution_count": 8,
   "metadata": {},
   "outputs": [
    {
     "name": "stdout",
     "output_type": "stream",
     "text": [
      "Time for built-in sum(): 0.7894068999999999\n",
      "Time for np.sum(): 0.08401410000000009\n"
     ]
    }
   ],
   "source": [
    "from timeit import timeit\n",
    "import numpy as np\n",
    "\n",
    "setup_sum = 'data = list(range(10000))'\n",
    "setup_np = 'import numpy as np;'\n",
    "setup_np += 'data_np = np.array(list(range(10000)))'\n",
    "    \n",
    "run_sum = 'result = sum(data)'\n",
    "run_np = 'result = np.sum(data_np)'\n",
    "\n",
    "time_sum = timeit(run_sum, setup=setup_sum, number=10000)\n",
    "time_np = timeit(run_np, setup=setup_np, number=10000)\n",
    "\n",
    "print(\"Time for built-in sum(): {}\".format(time_sum))\n",
    "print(\"Time for np.sum(): {}\".format(time_np))"
   ]
  },
  {
   "cell_type": "markdown",
   "metadata": {},
   "source": [
    "## 7. <a id='demo_sklearn'>Demo sklearn 💡 </a>\n",
    "---\n",
    "**Instalación**\n",
    "\n",
    "> ``conda install scikit-learn ``\n",
    "\n",
    "**Descripción**\n",
    "\n",
    "Scikit-learn es una biblioteca de aprendizaje automático gratuita para Python. Cuenta con varios algoritmos como máquina de vectores de soporte, bosques aleatorios y vecinos k, y también admite bibliotecas numéricas y científicas de Python como NumPy y SciPy.\n",
    "\n",
    "**Link**\n",
    "\n",
    "[sklearn](https://scikit-learn.org/stable//)\n",
    "\n",
    "---"
   ]
  },
  {
   "cell_type": "code",
   "execution_count": 9,
   "metadata": {},
   "outputs": [],
   "source": [
    "from sklearn import datasets\n",
    "from sklearn.cluster import KMeans\n",
    "import matplotlib.pyplot as plt"
   ]
  },
  {
   "cell_type": "markdown",
   "metadata": {},
   "source": [
    "### Load the data"
   ]
  },
  {
   "cell_type": "code",
   "execution_count": 10,
   "metadata": {},
   "outputs": [],
   "source": [
    "iris = datasets.load_iris()\n",
    "X = iris.data\n",
    "petal_length = X[:, 2]\n",
    "petal_width = X[:, 3]\n",
    "true_labels = iris.target"
   ]
  },
  {
   "cell_type": "markdown",
   "metadata": {},
   "source": [
    "### Apply KMeans clustering"
   ]
  },
  {
   "cell_type": "code",
   "execution_count": 11,
   "metadata": {},
   "outputs": [],
   "source": [
    "estimator = KMeans(n_clusters=3)\n",
    "estimator.fit(X)\n",
    "predicted_labels = estimator.labels_"
   ]
  },
  {
   "cell_type": "markdown",
   "metadata": {},
   "source": [
    "### Color scheme definition: red, yellow and blue"
   ]
  },
  {
   "cell_type": "code",
   "execution_count": 12,
   "metadata": {},
   "outputs": [],
   "source": [
    "color_scheme = ['r', 'y', 'b']"
   ]
  },
  {
   "cell_type": "markdown",
   "metadata": {},
   "source": [
    "### Markers definition: circle, \"x\" and \"plus\""
   ]
  },
  {
   "cell_type": "code",
   "execution_count": 13,
   "metadata": {},
   "outputs": [],
   "source": [
    "marker_list = ['x', 'o', '+']"
   ]
  },
  {
   "cell_type": "markdown",
   "metadata": {},
   "source": [
    "### Assign colors/markers to the predicted labels"
   ]
  },
  {
   "cell_type": "code",
   "execution_count": 20,
   "metadata": {},
   "outputs": [],
   "source": [
    "colors_predicted_labels = [color_scheme[lab] for lab in predicted_labels]\n",
    "markers_predicted = [marker_list[lab] for lab in predicted_labels]"
   ]
  },
  {
   "cell_type": "markdown",
   "metadata": {},
   "source": [
    "### Assign colors/markers to the true labels"
   ]
  },
  {
   "cell_type": "code",
   "execution_count": 22,
   "metadata": {},
   "outputs": [],
   "source": [
    "colors_true_labels = [color_scheme[lab] for lab in true_labels]\n",
    "markers_true = [marker_list[lab] for lab in true_labels]"
   ]
  },
  {
   "cell_type": "markdown",
   "metadata": {},
   "source": [
    "### Plot and save the two scatter plots"
   ]
  },
  {
   "cell_type": "code",
   "execution_count": 26,
   "metadata": {},
   "outputs": [
    {
     "name": "stdout",
     "output_type": "stream",
     "text": [
      "['setosa' 'versicolor' 'virginica']\n"
     ]
    },
    {
     "data": {
      "image/png": "[encoded data removed]",
      "text/plain": [
       "<Figure size 432x288 with 1 Axes>"
      ]
     },
     "metadata": {
      "needs_background": "light"
     },
     "output_type": "display_data"
    }
   ],
   "source": [
    "for x, y, c, m in zip(petal_width,\n",
    "                        petal_length,\n",
    "                        colors_predicted_labels,\n",
    "                        markers_predicted):\n",
    "    plt.scatter(x, y, c=c, marker=m)\n",
    "plt.savefig('./images/iris_clusters.png')\n",
    "\n",
    "for x, y, c, m in zip(petal_width,\n",
    "                        petal_length,\n",
    "                        colors_true_labels,\n",
    "                        markers_true):\n",
    "    plt.scatter(x, y, c=c, marker=m)\n",
    "plt.tight_layout()\n",
    "plt.savefig('./images/iris_true_labels.png')\n",
    "\n",
    "print(iris.target_names)"
   ]
  }
 ],
 "metadata": {
  "kernelspec": {
   "display_name": "Python 3",
   "language": "python",
   "name": "python3"
  },
  "language_info": {
   "codemirror_mode": {
    "name": "ipython",
    "version": 3
   },
   "file_extension": ".py",
   "mimetype": "text/x-python",
   "name": "python",
   "nbconvert_exporter": "python",
   "pygments_lexer": "ipython3",
   "version": "3.7.6"
  }
 },
 "nbformat": 4,
 "nbformat_minor": 4
}
