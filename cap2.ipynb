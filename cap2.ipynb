{
 "cells": [
  {
   "cell_type": "markdown",
   "metadata": {},
   "source": [
    "## **Título**: Primer contacto con la api de TWITTER\n",
    "---\n",
    "\n",
    "<div class=\"alert alert-info\" role=\"alert\">\n",
    "<p><strong>Algoritmos basicos API Twitter</strong></p>\n",
    "<p><strong>Autor</strong>: Daniel Ivan Medina Barreras </p>\n",
    "<p><strong>Fecha</strong>: 20200730</p>\n",
    "<p></p>\n",
    "<p><strong>Referencia</strong>: cap2.ipynb</p>\n",
    "<p> <strong>Descripción</strong> : Primeros algoritmos mas basicos para usar el API de Twitter</p>\n",
    "</div>"
   ]
  },
  {
   "cell_type": "markdown",
   "metadata": {},
   "source": [
    "## <font size='5' color='blue'>Contenidos</font> \n",
    "\n",
    "\n",
    "* [PACKAGES](#twitter_packages)    \n",
    "<br></br>\n",
    "* [Twitter client](#twitter_client)  \n",
    "<br></br>\n",
    "* [Twitter_get_home_timeline](#twitter_get_home_timeline)    \n",
    "<br></br>\n",
    "* [Twitter get user timeline](#twitter_get_user_timeline)     \n",
    " <br></br>\n",
    "* [Twitter streaming](#twitter_streaming)     \n",
    " <br></br>\n",
    "* [Twitter hashtag frequency](#twitter_hashtag_frequency)\n",
    "<br></br><br></br>\n",
    "\n",
    "* [Twitter hashtag stats](#twitter_hashtag_stats)\n",
    "<br></br><br></br>\n",
    "\n",
    "* [Twitter mention frequency](#twitter_mention_frequency)\n",
    "<br></br><br></br>\n",
    "\n",
    "* [Twitter_term_frequency](#twitter_term_frequency)\n",
    "<br></br><br></br>\n",
    "\n",
    "* [Twitter term frequency graph](#twitter_term_frequency_graph)\n",
    "<br></br><br></br>\n",
    "\n",
    "* [Twitter time series](#twitter_time_series)\n",
    "\n",
    "\n"
   ]
  },
  {
   "cell_type": "markdown",
   "metadata": {},
   "source": [
    "## 1. <a id='twitter_packages'>PACKAGES 📚 </a>\n",
    "---"
   ]
  },
  {
   "cell_type": "code",
   "execution_count": 1,
   "metadata": {},
   "outputs": [],
   "source": [
    "import os\n",
    "import sys\n",
    "\n",
    "import config\n",
    "import a\n",
    "import tweepy"
   ]
  },
  {
   "cell_type": "code",
   "execution_count": 2,
   "metadata": {},
   "outputs": [],
   "source": [
    "from tweepy import API\n",
    "from tweepy import OAuthHandler"
   ]
  },
  {
   "cell_type": "markdown",
   "metadata": {},
   "source": [
    "### Librerías estándar de Python\n",
    "---\n",
    "**Descripción**\n",
    "\n",
    "La instalación básica de Python viene con una muy completa librería de módulos para todo tipo de tareas, incluyendo acceso a ficheros y directorios, compresión de ficheros, ejecución recurrente (multihilo), email, html, xml, csv y un largo etcétera.\n",
    "\n",
    "**Link**\n",
    "\n",
    "[La biblioteca estándar de Python](https://docs.python.org/3/library/index.html)"
   ]
  },
  {
   "cell_type": "markdown",
   "metadata": {},
   "source": [
    "### tweepy\n",
    "---\n",
    "**Instalación**\n",
    "\n",
    ">``conda install -c conda-forge tweepy``  \n",
    ">``conda install -c conda-forge/label/cf201901 tweepy``  \n",
    ">``conda install -c conda-forge/label/cf202003 tweepy ``  \n",
    "\n",
    "**Descripción**\n",
    "\n",
    "Tweepy es una biblioteca de Python para acceder a la API de Twitter.  \n",
    "\n",
    "Es ideal para la automatización simple y la creación de bots de Twitter. \n",
    "\n",
    "Tweepy tiene muchas características.\n",
    " \n",
    "**Link**\n",
    "\n",
    "[tweepy](https://www.tweepy.org/)"
   ]
  },
  {
   "cell_type": "markdown",
   "metadata": {},
   "source": [
    "## 2. <a id='twitter_client'>twitter client🐦</a>\n",
    "---"
   ]
  },
  {
   "cell_type": "code",
   "execution_count": 10,
   "metadata": {},
   "outputs": [],
   "source": [
    "def get_twitter_auth():\n",
    "    \"\"\"Setup Twitter authentication.\n",
    "\n",
    "    Return: tweepy.OAuthHandler object\n",
    "    \"\"\"\n",
    "    try:\n",
    "        consumer_key = config.consumer_key\n",
    "        consumer_secret = config.consumer_secret\n",
    "        access_token = config.access_token\n",
    "        access_secret = config.access_secret\n",
    "    except NameError:\n",
    "        print(\"TWITTER_* environment variables not set\\n\")\n",
    "    auth = OAuthHandler(consumer_key, consumer_secret)\n",
    "    auth.set_access_token(access_token, access_secret)\n",
    "    return auth"
   ]
  },
  {
   "cell_type": "code",
   "execution_count": 11,
   "metadata": {},
   "outputs": [],
   "source": [
    "def get_twitter_client():\n",
    "    \"\"\"Setup Twitter API client.\n",
    "\n",
    "    Return: tweepy.API object\n",
    "    \"\"\"\n",
    "    auth = get_twitter_auth()\n",
    "    client = API(auth)\n",
    "    return client"
   ]
  },
  {
   "cell_type": "markdown",
   "metadata": {},
   "source": [
    "**TEST API**"
   ]
  },
  {
   "cell_type": "code",
   "execution_count": 12,
   "metadata": {},
   "outputs": [],
   "source": [
    "api = get_twitter_client()"
   ]
  },
  {
   "cell_type": "code",
   "execution_count": 15,
   "metadata": {},
   "outputs": [
    {
     "name": "stdout",
     "output_type": "stream",
     "text": [
      "cabramaravilla te amo\n",
      "skain comunista https://t.co/EFX3PFPbPb\n",
      "The impacts of COVID-19 are driving worrying increases in malnutrition and health outcomes. However, there are clea… https://t.co/eDjJJPt535\n",
      "just tried to physically blow a text notification away on my phone so that’s where I’m at\n",
      "The second to last piece of hardware for our #Artemis I flight around the Moon has arrived at @NASAKennedy in Flori… https://t.co/JnQiOJVyEw\n",
      "Learn more about ODSC West 2020’s six specialized learning paths to ensure that you can easily select the courses t… https://t.co/bz8HtSBQPn\n",
      "@SkainLoL https://t.co/uTjfaFhCLS\n",
      "Ty elbread @BriiHD ahora a mi flor tambien le gusta el pan como a ti https://t.co/2HyddErHyv\n",
      "RT @Quickshot: The LEC onair talent team did not simply share messages on social media and walk away. We raised our concerns internally, me…\n",
      "RT @trevormundel: The @WorldBank’s support of @CEPIvaccines and @gavi is instrumental to the research and development of the #COVID19 vacci…\n"
     ]
    }
   ],
   "source": [
    "for status in tweepy.Cursor(api.home_timeline).items(10):\n",
    "        # Process a single status\n",
    "        print(status.text)"
   ]
  },
  {
   "cell_type": "markdown",
   "metadata": {},
   "source": [
    "## 3. <a id='twitter_get_home_timeline'>Twitter get home timeline 🏠 </a>\n",
    "---"
   ]
  },
  {
   "cell_type": "code",
   "execution_count": 17,
   "metadata": {},
   "outputs": [],
   "source": [
    "import json\n",
    "from tweepy import Cursor\n",
    "\n",
    "client = get_twitter_client()\n",
    "\n",
    "with open('./json/home_timeline.jsonl', 'w') as f:\n",
    "    for page in Cursor(client.home_timeline, count=200, include_rts=True).pages(4):\n",
    "        for status in page:\n",
    "            # Process a single status\n",
    "            f.write(json.dumps(status._json)+\"\\n\")"
   ]
  },
  {
   "cell_type": "markdown",
   "metadata": {},
   "source": [
    "**La ejecución de este código generará un archivo home_timeline.json en unos momentos**"
   ]
  },
  {
   "cell_type": "markdown",
   "metadata": {},
   "source": [
    "En este código, itera a través de cuatro páginas, que contienen 200 tweets, cada una según lo declarado en el argumento de conteo del cursor. La razón de esto es una limitación dada por Twitter: solo podemos recuperar hasta los 800 tweets más recientes de nuestra línea de tiempo local.\n",
    "Si recuperamos tweets de una línea de tiempo de usuario específica, es decir, usando el método `user_timeline` en lugar de `home_timeline`, este límite aumenta a 3.200."
   ]
  },
  {
   "cell_type": "markdown",
   "metadata": {},
   "source": [
    "## 4. <a id='twitter_get_user_timeline'>Twitter get user timeline  👤</a>\n",
    "---"
   ]
  },
  {
   "cell_type": "code",
   "execution_count": 18,
   "metadata": {},
   "outputs": [],
   "source": [
    "# @BarrerasDaniel2"
   ]
  },
  {
   "cell_type": "code",
   "execution_count": 19,
   "metadata": {},
   "outputs": [],
   "source": [
    "import sys\n",
    "import json\n",
    "from tweepy import Cursor"
   ]
  },
  {
   "cell_type": "code",
   "execution_count": 20,
   "metadata": {},
   "outputs": [],
   "source": [
    "def usage():\n",
    "    print(\"Usage:\")\n",
    "    print(\"{} <username>\".format(user))"
   ]
  },
  {
   "cell_type": "code",
   "execution_count": 21,
   "metadata": {},
   "outputs": [
    {
     "name": "stdout",
     "output_type": "stream",
     "text": [
      "Ingresa un usuario para obtener sus tweets: @BarrerasDaniel2\n"
     ]
    }
   ],
   "source": [
    "user = str(input(\"Ingresa un usuario para obtener sus tweets: \"))"
   ]
  },
  {
   "cell_type": "code",
   "execution_count": 22,
   "metadata": {},
   "outputs": [
    {
     "name": "stdout",
     "output_type": "stream",
     "text": [
      "Usage:\n",
      "@BarrerasDaniel2 <username>\n"
     ]
    }
   ],
   "source": [
    "usage()"
   ]
  },
  {
   "cell_type": "code",
   "execution_count": 23,
   "metadata": {},
   "outputs": [],
   "source": [
    "client = get_twitter_client()\n",
    "\n",
    "fname = \"./json/user_timeline_{}.jsonl\".format(user)\n",
    "with open(fname, 'w') as f:\n",
    "    for page in Cursor(client.user_timeline, screen_name=user, count=200).pages(16):\n",
    "        for status in page:\n",
    "            f.write(json.dumps(status._json)+\"\\n\")"
   ]
  },
  {
   "cell_type": "markdown",
   "metadata": {},
   "source": [
    "**revisar la carpeta 'json'**"
   ]
  },
  {
   "cell_type": "markdown",
   "metadata": {},
   "source": [
    "### El formato JSON_Lines\n",
    "\n",
    "El archivo en el ejemplo anterior tiene una extensión .jsonl en lugar de solo.json.\n",
    "De hecho, este archivo está en el formato [JSON_Lines](http://jsonlines.org/), lo que significa que cada línea del archivo es un documento JSON válido. Intentar cargar todo el contenido de este archivo con, por ejemplo, `json.loads()` recaudará ValueError ya que todo el contenido no es un documento JSON válido. Por el contrario, si usamos funciones que esperan documentos JSON válidos, necesitamos procesar una línea. El formato de líneas JSON es particularmente adecuado para el procesamiento a gran escala: muchos marcos de big data permiten a los desarrolladores dividir fácilmente el archivo de entrada en fragmentos que pueden ser procesados en paralelo por diferentes trabajadores."
   ]
  },
  {
   "cell_type": "markdown",
   "metadata": {},
   "source": [
    "## La estructura de un tweet"
   ]
  },
  {
   "cell_type": "markdown",
   "metadata": {},
   "source": [
    "<html>\n",
    "\n",
    "<head>\n",
    "<meta http-equiv=Content-Type content=\"text/html; charset=windows-1252\">\n",
    "<meta name=Generator content=\"Microsoft Word 15 (filtered)\">\n",
    "<style>\n",
    "<!--\n",
    " /* Font Definitions */\n",
    " @font-face\n",
    "\t{font-family:\"Cambria Math\";\n",
    "\tpanose-1:2 4 5 3 5 4 6 3 2 4;}\n",
    "@font-face\n",
    "\t{font-family:Calibri;\n",
    "\tpanose-1:2 15 5 2 2 2 4 3 2 4;}\n",
    "@font-face\n",
    "\t{font-family:PalatinoLinotype-Bold;\n",
    "\tpanose-1:0 0 0 0 0 0 0 0 0 0;}\n",
    "@font-face\n",
    "\t{font-family:FreeMono;\n",
    "\tpanose-1:0 0 0 0 0 0 0 0 0 0;}\n",
    "@font-face\n",
    "\t{font-family:PalatinoLinotype-Roman;\n",
    "\tpanose-1:0 0 0 0 0 0 0 0 0 0;}\n",
    " /* Style Definitions */\n",
    " p.MsoNormal, li.MsoNormal, div.MsoNormal\n",
    "\t{margin-top:0cm;\n",
    "\tmargin-right:0cm;\n",
    "\tmargin-bottom:8.0pt;\n",
    "\tmargin-left:0cm;\n",
    "\tline-height:107%;\n",
    "\tfont-size:11.0pt;\n",
    "\tfont-family:\"Calibri\",sans-serif;}\n",
    ".MsoChpDefault\n",
    "\t{font-family:\"Calibri\",sans-serif;}\n",
    ".MsoPapDefault\n",
    "\t{margin-bottom:8.0pt;\n",
    "\tline-height:107%;}\n",
    "@page WordSection1\n",
    "\t{size:612.0pt 792.0pt;\n",
    "\tmargin:70.85pt 3.0cm 70.85pt 3.0cm;}\n",
    "div.WordSection1\n",
    "\t{page:WordSection1;}\n",
    "-->\n",
    "</style>\n",
    "\n",
    "</head>\n",
    "\n",
    "<body lang=ES-MX>\n",
    "\n",
    "<div class=WordSection1>\n",
    "\n",
    "<table class=MsoTableGrid border=1 cellspacing=0 cellpadding=0\n",
    " style='border-collapse:collapse;border:none'>\n",
    " <tr>\n",
    "  <td width=294 valign=top style='width:220.7pt;border:solid windowtext 1.0pt;\n",
    "  padding:0cm 5.4pt 0cm 5.4pt'>\n",
    "  <p class=MsoNormal style='margin-bottom:0cm;margin-bottom:.0001pt;line-height:\n",
    "  normal'><b><span style='font-size:10.0pt;font-family:PalatinoLinotype-Bold'>Attribute\n",
    "  Name</span></b></p>\n",
    "  </td>\n",
    "  <td width=294 valign=top style='width:220.7pt;border:solid windowtext 1.0pt;\n",
    "  border-left:none;padding:0cm 5.4pt 0cm 5.4pt'>\n",
    "  <p class=MsoNormal style='margin-bottom:0cm;margin-bottom:.0001pt;line-height:\n",
    "  normal'><b><span style='font-size:10.0pt;font-family:PalatinoLinotype-Bold'>Description</span></b></p>\n",
    "  </td>\n",
    " </tr>\n",
    " <tr>\n",
    "  <td width=294 valign=top style='width:220.7pt;border:solid windowtext 1.0pt;\n",
    "  border-top:none;padding:0cm 5.4pt 0cm 5.4pt'>\n",
    "  <p class=MsoNormal style='margin-bottom:0cm;margin-bottom:.0001pt;line-height:\n",
    "  normal'><span lang=EN-US style='font-size:10.0pt;font-family:FreeMono'>_json </span></p>\n",
    "  </td>\n",
    "  <td width=294 valign=top style='width:220.7pt;border-top:none;border-left:\n",
    "  none;border-bottom:solid windowtext 1.0pt;border-right:solid windowtext 1.0pt;\n",
    "  padding:0cm 5.4pt 0cm 5.4pt'>\n",
    "  <p class=MsoNormal style='margin-bottom:0cm;margin-bottom:.0001pt;line-height:\n",
    "  normal'>Este es un diccionario con la respuesta JSON del estado</p>\n",
    "  </td>\n",
    " </tr>\n",
    " <tr>\n",
    "  <td width=294 valign=top style='width:220.7pt;border:solid windowtext 1.0pt;\n",
    "  border-top:none;padding:0cm 5.4pt 0cm 5.4pt'>\n",
    "  <p class=MsoNormal style='margin-bottom:0cm;margin-bottom:.0001pt;line-height:\n",
    "  normal'><span lang=EN-US style='font-size:10.0pt;font-family:FreeMono'>author\n",
    "  </span></p>\n",
    "  </td>\n",
    "  <td width=294 valign=top style='width:220.7pt;border-top:none;border-left:\n",
    "  none;border-bottom:solid windowtext 1.0pt;border-right:solid windowtext 1.0pt;\n",
    "  padding:0cm 5.4pt 0cm 5.4pt'>\n",
    "  <p class=MsoNormal style='margin-bottom:0cm;margin-bottom:.0001pt;line-height:\n",
    "  normal'>Esta es la instancia de tweepy.models.User del tweet</p>\n",
    "  </td>\n",
    " </tr>\n",
    " <tr>\n",
    "  <td width=294 valign=top style='width:220.7pt;border:solid windowtext 1.0pt;\n",
    "  border-top:none;padding:0cm 5.4pt 0cm 5.4pt'>\n",
    "  <p class=MsoNormal style='margin-bottom:0cm;margin-bottom:.0001pt;line-height:\n",
    "  normal'><span lang=EN-US style='font-size:10.0pt;font-family:FreeMono'>contributors\n",
    "  </span></p>\n",
    "  </td>\n",
    "  <td width=294 valign=top style='width:220.7pt;border-top:none;border-left:\n",
    "  none;border-bottom:solid windowtext 1.0pt;border-right:solid windowtext 1.0pt;\n",
    "  padding:0cm 5.4pt 0cm 5.4pt'>\n",
    "  <p class=MsoNormal style='margin-bottom:0cm;margin-bottom:.0001pt;line-height:\n",
    "  normal'>Esta es una lista de contribuyentes, si la función está habilitada</p>\n",
    "  </td>\n",
    " </tr>\n",
    " <tr>\n",
    "  <td width=294 valign=top style='width:220.7pt;border:solid windowtext 1.0pt;\n",
    "  border-top:none;padding:0cm 5.4pt 0cm 5.4pt'>\n",
    "  <p class=MsoNormal style='margin-bottom:0cm;margin-bottom:.0001pt;line-height:\n",
    "  normal'><span lang=EN-US style='font-size:10.0pt;font-family:FreeMono'>coordinates\n",
    "  </span></p>\n",
    "  </td>\n",
    "  <td width=294 valign=top style='width:220.7pt;border-top:none;border-left:\n",
    "  none;border-bottom:solid windowtext 1.0pt;border-right:solid windowtext 1.0pt;\n",
    "  padding:0cm 5.4pt 0cm 5.4pt'>\n",
    "  <p class=MsoNormal style='margin-bottom:0cm;margin-bottom:.0001pt;line-height:\n",
    "  normal'>Este es el diccionario de coordenadas en el formato GeoJSON</p>\n",
    "  </td>\n",
    " </tr>\n",
    " <tr>\n",
    "  <td width=294 valign=top style='width:220.7pt;border:solid windowtext 1.0pt;\n",
    "  border-top:none;padding:0cm 5.4pt 0cm 5.4pt'>\n",
    "  <p class=MsoNormal style='margin-bottom:0cm;margin-bottom:.0001pt;line-height:\n",
    "  normal'><span lang=EN-US style='font-size:10.0pt;font-family:FreeMono'>created_at\n",
    "  </span></p>\n",
    "  </td>\n",
    "  <td width=294 valign=top style='width:220.7pt;border-top:none;border-left:\n",
    "  none;border-bottom:solid windowtext 1.0pt;border-right:solid windowtext 1.0pt;\n",
    "  padding:0cm 5.4pt 0cm 5.4pt'>\n",
    "  <p class=MsoNormal style='margin-bottom:0cm;margin-bottom:.0001pt;line-height:\n",
    "  normal'>Esta es la instancia de datetime.datetime del tiempo de creación de\n",
    "  tweet</p>\n",
    "  </td>\n",
    " </tr>\n",
    " <tr>\n",
    "  <td width=294 valign=top style='width:220.7pt;border:solid windowtext 1.0pt;\n",
    "  border-top:none;padding:0cm 5.4pt 0cm 5.4pt'>\n",
    "  <p class=MsoNormal style='margin-bottom:0cm;margin-bottom:.0001pt;line-height:\n",
    "  normal'><span lang=EN-US style='font-size:10.0pt;font-family:FreeMono'>entities\n",
    "  </span></p>\n",
    "  </td>\n",
    "  <td width=294 valign=top style='width:220.7pt;border-top:none;border-left:\n",
    "  none;border-bottom:solid windowtext 1.0pt;border-right:solid windowtext 1.0pt;\n",
    "  padding:0cm 5.4pt 0cm 5.4pt'>\n",
    "  <p class=MsoNormal style='margin-bottom:0cm;margin-bottom:.0001pt;line-height:\n",
    "  normal'>Este es un diccionario de URL, hashtags y menciones en los tweets</p>\n",
    "  </td>\n",
    " </tr>\n",
    " <tr>\n",
    "  <td width=294 valign=top style='width:220.7pt;border:solid windowtext 1.0pt;\n",
    "  border-top:none;padding:0cm 5.4pt 0cm 5.4pt'>\n",
    "  <p class=MsoNormal style='margin-bottom:0cm;margin-bottom:.0001pt;line-height:\n",
    "  normal'><span lang=EN-US style='font-size:10.0pt;font-family:FreeMono'>favorite_count\n",
    "  </span></p>\n",
    "  </td>\n",
    "  <td width=294 valign=top style='width:220.7pt;border-top:none;border-left:\n",
    "  none;border-bottom:solid windowtext 1.0pt;border-right:solid windowtext 1.0pt;\n",
    "  padding:0cm 5.4pt 0cm 5.4pt'>\n",
    "  <p class=MsoNormal style='margin-bottom:0cm;margin-bottom:.0001pt;line-height:\n",
    "  normal'><span style='font-size:10.0pt;font-family:PalatinoLinotype-Roman'>Esta\n",
    "  es la cantidad de veces que el tweet ha sido favorecido</span></p>\n",
    "  </td>\n",
    " </tr>\n",
    " <tr>\n",
    "  <td width=294 valign=top style='width:220.7pt;border:solid windowtext 1.0pt;\n",
    "  border-top:none;padding:0cm 5.4pt 0cm 5.4pt'>\n",
    "  <p class=MsoNormal style='margin-bottom:0cm;margin-bottom:.0001pt;line-height:\n",
    "  normal;text-autospace:none'><span lang=EN-US style='font-size:10.0pt;\n",
    "  font-family:FreeMono'>favorited </span></p>\n",
    "  </td>\n",
    "  <td width=294 valign=top style='width:220.7pt;border-top:none;border-left:\n",
    "  none;border-bottom:solid windowtext 1.0pt;border-right:solid windowtext 1.0pt;\n",
    "  padding:0cm 5.4pt 0cm 5.4pt'>\n",
    "  <p class=MsoNormal style='margin-bottom:0cm;margin-bottom:.0001pt;line-height:\n",
    "  normal;text-autospace:none'><span style='font-size:10.0pt;font-family:PalatinoLinotype-Roman'>Esto\n",
    "  marca si el usuario autenticado ha favorecido el tweet</span></p>\n",
    "  </td>\n",
    " </tr>\n",
    " <tr>\n",
    "  <td width=294 valign=top style='width:220.7pt;border:solid windowtext 1.0pt;\n",
    "  border-top:none;padding:0cm 5.4pt 0cm 5.4pt'>\n",
    "  <p class=MsoNormal style='margin-bottom:0cm;margin-bottom:.0001pt;line-height:\n",
    "  normal;text-autospace:none'><span lang=EN-US style='font-size:10.0pt;\n",
    "  font-family:FreeMono'>geo </span></p>\n",
    "  </td>\n",
    "  <td width=294 valign=top style='width:220.7pt;border-top:none;border-left:\n",
    "  none;border-bottom:solid windowtext 1.0pt;border-right:solid windowtext 1.0pt;\n",
    "  padding:0cm 5.4pt 0cm 5.4pt'>\n",
    "  <p class=MsoNormal style='margin-bottom:0cm;margin-bottom:.0001pt;line-height:\n",
    "  normal;text-autospace:none'><span style='font-size:10.0pt;font-family:PalatinoLinotype-Roman'>Estas\n",
    "  son las coordenadas (en desuso, use las coordenadas en su lugar)</span></p>\n",
    "  </td>\n",
    " </tr>\n",
    " <tr>\n",
    "  <td width=294 valign=top style='width:220.7pt;border:solid windowtext 1.0pt;\n",
    "  border-top:none;padding:0cm 5.4pt 0cm 5.4pt'>\n",
    "  <p class=MsoNormal style='margin-bottom:0cm;margin-bottom:.0001pt;line-height:\n",
    "  normal;text-autospace:none'><span lang=EN-US style='font-size:10.0pt;\n",
    "  font-family:FreeMono'>id </span></p>\n",
    "  </td>\n",
    "  <td width=294 valign=top style='width:220.7pt;border-top:none;border-left:\n",
    "  none;border-bottom:solid windowtext 1.0pt;border-right:solid windowtext 1.0pt;\n",
    "  padding:0cm 5.4pt 0cm 5.4pt'>\n",
    "  <p class=MsoNormal style='margin-bottom:0cm;margin-bottom:.0001pt;line-height:\n",
    "  normal;text-autospace:none'><span style='font-size:10.0pt;font-family:PalatinoLinotype-Roman'>Esta\n",
    "  es la identificación única de los tweets como gran número entero</span></p>\n",
    "  </td>\n",
    " </tr>\n",
    " <tr>\n",
    "  <td width=294 valign=top style='width:220.7pt;border:solid windowtext 1.0pt;\n",
    "  border-top:none;padding:0cm 5.4pt 0cm 5.4pt'>\n",
    "  <p class=MsoNormal style='margin-bottom:0cm;margin-bottom:.0001pt;line-height:\n",
    "  normal;text-autospace:none'><span lang=EN-US style='font-size:10.0pt;\n",
    "  font-family:FreeMono'>id_str </span></p>\n",
    "  </td>\n",
    "  <td width=294 valign=top style='width:220.7pt;border-top:none;border-left:\n",
    "  none;border-bottom:solid windowtext 1.0pt;border-right:solid windowtext 1.0pt;\n",
    "  padding:0cm 5.4pt 0cm 5.4pt'>\n",
    "  <p class=MsoNormal style='margin-bottom:0cm;margin-bottom:.0001pt;line-height:\n",
    "  normal;text-autospace:none'><span style='font-size:10.0pt;font-family:PalatinoLinotype-Roman'>Esta\n",
    "  es la identificación única del tweet como cadena</span></p>\n",
    "  </td>\n",
    " </tr>\n",
    " <tr>\n",
    "  <td width=294 valign=top style='width:220.7pt;border:solid windowtext 1.0pt;\n",
    "  border-top:none;padding:0cm 5.4pt 0cm 5.4pt'>\n",
    "  <p class=MsoNormal style='margin-bottom:0cm;margin-bottom:.0001pt;line-height:\n",
    "  normal;text-autospace:none'><span lang=EN-US style='font-size:10.0pt;\n",
    "  font-family:FreeMono'>in_reply_to_screen_name </span></p>\n",
    "  </td>\n",
    "  <td width=294 valign=top style='width:220.7pt;border-top:none;border-left:\n",
    "  none;border-bottom:solid windowtext 1.0pt;border-right:solid windowtext 1.0pt;\n",
    "  padding:0cm 5.4pt 0cm 5.4pt'>\n",
    "  <p class=MsoNormal style='margin-bottom:0cm;margin-bottom:.0001pt;line-height:\n",
    "  normal;text-autospace:none'><span style='font-size:10.0pt;font-family:PalatinoLinotype-Roman'>Este\n",
    "  es el nombre de usuario del estado al que responde el tweet</span></p>\n",
    "  </td>\n",
    " </tr>\n",
    " <tr>\n",
    "  <td width=294 valign=top style='width:220.7pt;border:solid windowtext 1.0pt;\n",
    "  border-top:none;padding:0cm 5.4pt 0cm 5.4pt'>\n",
    "  <p class=MsoNormal style='margin-bottom:0cm;margin-bottom:.0001pt;line-height:\n",
    "  normal;text-autospace:none'><span lang=EN-US style='font-size:10.0pt;\n",
    "  font-family:FreeMono'>in_reply_to_status_id </span></p>\n",
    "  </td>\n",
    "  <td width=294 valign=top style='width:220.7pt;border-top:none;border-left:\n",
    "  none;border-bottom:solid windowtext 1.0pt;border-right:solid windowtext 1.0pt;\n",
    "  padding:0cm 5.4pt 0cm 5.4pt'>\n",
    "  <p class=MsoNormal style='margin-bottom:0cm;margin-bottom:.0001pt;line-height:\n",
    "  normal;text-autospace:none'><span style='font-size:10.0pt;font-family:PalatinoLinotype-Roman'>Este\n",
    "  es el ID de estado del estado al que responde el tweet, como un entero grande</span></p>\n",
    "  </td>\n",
    " </tr>\n",
    " <tr>\n",
    "  <td width=294 valign=top style='width:220.7pt;border:solid windowtext 1.0pt;\n",
    "  border-top:none;padding:0cm 5.4pt 0cm 5.4pt'>\n",
    "  <p class=MsoNormal style='margin-bottom:0cm;margin-bottom:.0001pt;line-height:\n",
    "  normal;text-autospace:none'><span lang=EN-US style='font-size:10.0pt;\n",
    "  font-family:FreeMono'>in_reply_to_status_id_str </span></p>\n",
    "  </td>\n",
    "  <td width=294 valign=top style='width:220.7pt;border-top:none;border-left:\n",
    "  none;border-bottom:solid windowtext 1.0pt;border-right:solid windowtext 1.0pt;\n",
    "  padding:0cm 5.4pt 0cm 5.4pt'>\n",
    "  <p class=MsoNormal style='margin-bottom:0cm;margin-bottom:.0001pt;line-height:\n",
    "  normal;text-autospace:none'><span style='font-size:10.0pt;font-family:PalatinoLinotype-Roman'>Este\n",
    "  es el ID de estado del estado al que responde el tweet, como cadena</span></p>\n",
    "  </td>\n",
    " </tr>\n",
    " <tr>\n",
    "  <td width=294 valign=top style='width:220.7pt;border:solid windowtext 1.0pt;\n",
    "  border-top:none;padding:0cm 5.4pt 0cm 5.4pt'>\n",
    "  <p class=MsoNormal style='margin-bottom:0cm;margin-bottom:.0001pt;line-height:\n",
    "  normal;text-autospace:none'><span lang=EN-US style='font-size:10.0pt;\n",
    "  font-family:FreeMono'>in_reply_to_user_id </span></p>\n",
    "  </td>\n",
    "  <td width=294 valign=top style='width:220.7pt;border-top:none;border-left:\n",
    "  none;border-bottom:solid windowtext 1.0pt;border-right:solid windowtext 1.0pt;\n",
    "  padding:0cm 5.4pt 0cm 5.4pt'>\n",
    "  <p class=MsoNormal style='margin-bottom:0cm;margin-bottom:.0001pt;line-height:\n",
    "  normal;text-autospace:none'><span style='font-size:10.0pt;font-family:PalatinoLinotype-Roman'>Esta\n",
    "  es la ID de usuario del estado al que responde el tweet, como un entero\n",
    "  grande</span></p>\n",
    "  </td>\n",
    " </tr>\n",
    " <tr>\n",
    "  <td width=294 valign=top style='width:220.7pt;border:solid windowtext 1.0pt;\n",
    "  border-top:none;padding:0cm 5.4pt 0cm 5.4pt'>\n",
    "  <p class=MsoNormal style='margin-bottom:0cm;margin-bottom:.0001pt;line-height:\n",
    "  normal;text-autospace:none'><span lang=EN-US style='font-size:10.0pt;\n",
    "  font-family:FreeMono'>in_reply_to_user_id_str </span></p>\n",
    "  </td>\n",
    "  <td width=294 valign=top style='width:220.7pt;border-top:none;border-left:\n",
    "  none;border-bottom:solid windowtext 1.0pt;border-right:solid windowtext 1.0pt;\n",
    "  padding:0cm 5.4pt 0cm 5.4pt'>\n",
    "  <p class=MsoNormal style='margin-bottom:0cm;margin-bottom:.0001pt;line-height:\n",
    "  normal;text-autospace:none'><span style='font-size:10.0pt;font-family:PalatinoLinotype-Roman'>Esta\n",
    "  es la ID de usuario del estado al que responde el tweet, como cadena</span></p>\n",
    "  </td>\n",
    " </tr>\n",
    " <tr>\n",
    "  <td width=294 valign=top style='width:220.7pt;border:solid windowtext 1.0pt;\n",
    "  border-top:none;padding:0cm 5.4pt 0cm 5.4pt'>\n",
    "  <p class=MsoNormal style='margin-bottom:0cm;margin-bottom:.0001pt;line-height:\n",
    "  normal;text-autospace:none'><span lang=EN-US style='font-size:10.0pt;\n",
    "  font-family:FreeMono'>is_quote_status </span></p>\n",
    "  </td>\n",
    "  <td width=294 valign=top style='width:220.7pt;border-top:none;border-left:\n",
    "  none;border-bottom:solid windowtext 1.0pt;border-right:solid windowtext 1.0pt;\n",
    "  padding:0cm 5.4pt 0cm 5.4pt'>\n",
    "  <p class=MsoNormal style='margin-bottom:0cm;margin-bottom:.0001pt;line-height:\n",
    "  normal;text-autospace:none'><span style='font-size:10.0pt;font-family:PalatinoLinotype-Roman'>Esto\n",
    "  marca si el tweet es una cita (es decir, contiene otro tweet)</span></p>\n",
    "  </td>\n",
    " </tr>\n",
    " <tr>\n",
    "  <td width=294 valign=top style='width:220.7pt;border:solid windowtext 1.0pt;\n",
    "  border-top:none;padding:0cm 5.4pt 0cm 5.4pt'>\n",
    "  <p class=MsoNormal style='margin-bottom:0cm;margin-bottom:.0001pt;line-height:\n",
    "  normal;text-autospace:none'><span lang=EN-US style='font-size:10.0pt;\n",
    "  font-family:FreeMono'>lang </span></p>\n",
    "  </td>\n",
    "  <td width=294 valign=top style='width:220.7pt;border-top:none;border-left:\n",
    "  none;border-bottom:solid windowtext 1.0pt;border-right:solid windowtext 1.0pt;\n",
    "  padding:0cm 5.4pt 0cm 5.4pt'>\n",
    "  <p class=MsoNormal style='margin-bottom:0cm;margin-bottom:.0001pt;line-height:\n",
    "  normal;text-autospace:none'><span style='font-size:10.0pt;font-family:PalatinoLinotype-Roman'>Esta\n",
    "  es la cadena con el código de idioma del tweet</span></p>\n",
    "  </td>\n",
    " </tr>\n",
    " <tr>\n",
    "  <td width=294 valign=top style='width:220.7pt;border:solid windowtext 1.0pt;\n",
    "  border-top:none;padding:0cm 5.4pt 0cm 5.4pt'>\n",
    "  <p class=MsoNormal style='margin-bottom:0cm;margin-bottom:.0001pt;line-height:\n",
    "  normal;text-autospace:none'><span lang=EN-US style='font-size:10.0pt;\n",
    "  font-family:FreeMono'>place </span></p>\n",
    "  </td>\n",
    "  <td width=294 valign=top style='width:220.7pt;border-top:none;border-left:\n",
    "  none;border-bottom:solid windowtext 1.0pt;border-right:solid windowtext 1.0pt;\n",
    "  padding:0cm 5.4pt 0cm 5.4pt'>\n",
    "  <p class=MsoNormal style='margin-bottom:0cm;margin-bottom:.0001pt;line-height:\n",
    "  normal;text-autospace:none'><span style='font-size:10.0pt;font-family:PalatinoLinotype-Roman'>Esta\n",
    "  es la instancia tweepy.models.Place del lugar adjunto al tweet</span></p>\n",
    "  </td>\n",
    " </tr>\n",
    " <tr>\n",
    "  <td width=294 valign=top style='width:220.7pt;border:solid windowtext 1.0pt;\n",
    "  border-top:none;padding:0cm 5.4pt 0cm 5.4pt'>\n",
    "  <p class=MsoNormal style='margin-bottom:0cm;margin-bottom:.0001pt;line-height:\n",
    "  normal;text-autospace:none'><span lang=EN-US style='font-size:10.0pt;\n",
    "  font-family:FreeMono'>possibly_sensitive </span></p>\n",
    "  </td>\n",
    "  <td width=294 valign=top style='width:220.7pt;border-top:none;border-left:\n",
    "  none;border-bottom:solid windowtext 1.0pt;border-right:solid windowtext 1.0pt;\n",
    "  padding:0cm 5.4pt 0cm 5.4pt'>\n",
    "  <p class=MsoNormal style='margin-bottom:0cm;margin-bottom:.0001pt;line-height:\n",
    "  normal;text-autospace:none'><span style='font-size:10.0pt;font-family:PalatinoLinotype-Roman'>Esto\n",
    "  marca si el tweet contiene URL con material posiblemente sensible</span></p>\n",
    "  </td>\n",
    " </tr>\n",
    " <tr>\n",
    "  <td width=294 valign=top style='width:220.7pt;border:solid windowtext 1.0pt;\n",
    "  border-top:none;padding:0cm 5.4pt 0cm 5.4pt'>\n",
    "  <p class=MsoNormal style='margin-bottom:0cm;margin-bottom:.0001pt;line-height:\n",
    "  normal;text-autospace:none'><span lang=EN-US style='font-size:10.0pt;\n",
    "  font-family:FreeMono'>retweet_count </span></p>\n",
    "  </td>\n",
    "  <td width=294 valign=top style='width:220.7pt;border-top:none;border-left:\n",
    "  none;border-bottom:solid windowtext 1.0pt;border-right:solid windowtext 1.0pt;\n",
    "  padding:0cm 5.4pt 0cm 5.4pt'>\n",
    "  <p class=MsoNormal style='margin-bottom:0cm;margin-bottom:.0001pt;line-height:\n",
    "  normal;text-autospace:none'><span style='font-size:10.0pt;font-family:PalatinoLinotype-Roman'>Este\n",
    "  es el número de veces que el estado ha sido retuiteado</span></p>\n",
    "  </td>\n",
    " </tr>\n",
    " <tr>\n",
    "  <td width=294 valign=top style='width:220.7pt;border:solid windowtext 1.0pt;\n",
    "  border-top:none;padding:0cm 5.4pt 0cm 5.4pt'>\n",
    "  <p class=MsoNormal style='margin-bottom:0cm;margin-bottom:.0001pt;line-height:\n",
    "  normal;text-autospace:none'><span lang=EN-US style='font-size:10.0pt;\n",
    "  font-family:FreeMono'>retweeted </span></p>\n",
    "  </td>\n",
    "  <td width=294 valign=top style='width:220.7pt;border-top:none;border-left:\n",
    "  none;border-bottom:solid windowtext 1.0pt;border-right:solid windowtext 1.0pt;\n",
    "  padding:0cm 5.4pt 0cm 5.4pt'>\n",
    "  <p class=MsoNormal style='margin-bottom:0cm;margin-bottom:.0001pt;line-height:\n",
    "  normal;text-autospace:none'><span style='font-size:10.0pt;font-family:PalatinoLinotype-Roman'>Esto\n",
    "  marca si el estado es un retweet</span></p>\n",
    "  </td>\n",
    " </tr>\n",
    " <tr>\n",
    "  <td width=294 valign=top style='width:220.7pt;border:solid windowtext 1.0pt;\n",
    "  border-top:none;padding:0cm 5.4pt 0cm 5.4pt'>\n",
    "  <p class=MsoNormal style='margin-bottom:0cm;margin-bottom:.0001pt;line-height:\n",
    "  normal;text-autospace:none'><span lang=EN-US style='font-size:10.0pt;\n",
    "  font-family:FreeMono'>source </span></p>\n",
    "  </td>\n",
    "  <td width=294 valign=top style='width:220.7pt;border-top:none;border-left:\n",
    "  none;border-bottom:solid windowtext 1.0pt;border-right:solid windowtext 1.0pt;\n",
    "  padding:0cm 5.4pt 0cm 5.4pt'>\n",
    "  <p class=MsoNormal style='margin-bottom:0cm;margin-bottom:.0001pt;line-height:\n",
    "  normal;text-autospace:none'><span style='font-size:10.0pt;font-family:PalatinoLinotype-Roman'>Esta\n",
    "  es la cadena que describe la herramienta utilizada para publicar el estado.</span></p>\n",
    "  </td>\n",
    " </tr>\n",
    " <tr>\n",
    "  <td width=294 valign=top style='width:220.7pt;border:solid windowtext 1.0pt;\n",
    "  border-top:none;padding:0cm 5.4pt 0cm 5.4pt'>\n",
    "  <p class=MsoNormal style='margin-bottom:0cm;margin-bottom:.0001pt;line-height:\n",
    "  normal;text-autospace:none'><span lang=EN-US style='font-size:10.0pt;\n",
    "  font-family:FreeMono'>text </span></p>\n",
    "  </td>\n",
    "  <td width=294 valign=top style='width:220.7pt;border-top:none;border-left:\n",
    "  none;border-bottom:solid windowtext 1.0pt;border-right:solid windowtext 1.0pt;\n",
    "  padding:0cm 5.4pt 0cm 5.4pt'>\n",
    "  <p class=MsoNormal style='margin-bottom:0cm;margin-bottom:.0001pt;line-height:\n",
    "  normal;text-autospace:none'><span style='font-size:10.0pt;font-family:PalatinoLinotype-Roman'>Esta\n",
    "  es la cadena con el contenido del estado</span></p>\n",
    "  </td>\n",
    " </tr>\n",
    " <tr>\n",
    "  <td width=294 valign=top style='width:220.7pt;border:solid windowtext 1.0pt;\n",
    "  border-top:none;padding:0cm 5.4pt 0cm 5.4pt'>\n",
    "  <p class=MsoNormal style='margin-bottom:0cm;margin-bottom:.0001pt;line-height:\n",
    "  normal;text-autospace:none'><span lang=EN-US style='font-size:10.0pt;\n",
    "  font-family:FreeMono'>truncated </span></p>\n",
    "  </td>\n",
    "  <td width=294 valign=top style='width:220.7pt;border-top:none;border-left:\n",
    "  none;border-bottom:solid windowtext 1.0pt;border-right:solid windowtext 1.0pt;\n",
    "  padding:0cm 5.4pt 0cm 5.4pt'>\n",
    "  <p class=MsoNormal style='margin-bottom:0cm;margin-bottom:.0001pt;line-height:\n",
    "  normal;text-autospace:none'><span style='font-size:10.0pt;font-family:PalatinoLinotype-Roman'>Esto\n",
    "  marca si el estado se truncó (por ejemplo, retuitear más de 140 caracteres)</span></p>\n",
    "  </td>\n",
    " </tr>\n",
    " <tr>\n",
    "  <td width=294 valign=top style='width:220.7pt;border:solid windowtext 1.0pt;\n",
    "  border-top:none;padding:0cm 5.4pt 0cm 5.4pt'>\n",
    "  <p class=MsoNormal style='margin-bottom:0cm;margin-bottom:.0001pt;line-height:\n",
    "  normal;text-autospace:none'><span lang=EN-US style='font-size:10.0pt;\n",
    "  font-family:FreeMono'>user </span></p>\n",
    "  </td>\n",
    "  <td width=294 valign=top style='width:220.7pt;border-top:none;border-left:\n",
    "  none;border-bottom:solid windowtext 1.0pt;border-right:solid windowtext 1.0pt;\n",
    "  padding:0cm 5.4pt 0cm 5.4pt'>\n",
    "  <p class=MsoNormal style='margin-bottom:0cm;margin-bottom:.0001pt;line-height:\n",
    "  normal;text-autospace:none'><span style='font-size:10.0pt;font-family:PalatinoLinotype-Roman'>Esta\n",
    "  es la instancia tweepy.models.User del autor del tweet (en desuso, use el\n",
    "  autor en su lugar)</span></p>\n",
    "  </td>\n",
    " </tr>\n",
    "</table>\n",
    "\n",
    "<p class=MsoNormal>&nbsp;</p>\n",
    "\n",
    "</div>\n",
    "\n",
    "</body>\n",
    "\n",
    "</html>\n"
   ]
  },
  {
   "cell_type": "markdown",
   "metadata": {},
   "source": [
    "## 5. <a id='twitter_streaming'>Twitter streaming  🎞️</a>\n",
    "---"
   ]
  },
  {
   "cell_type": "code",
   "execution_count": 12,
   "metadata": {},
   "outputs": [],
   "source": [
    "import sys\n",
    "import string\n",
    "import time\n",
    "from tweepy import Stream\n",
    "from tweepy.streaming import StreamListener"
   ]
  },
  {
   "cell_type": "code",
   "execution_count": 13,
   "metadata": {},
   "outputs": [],
   "source": [
    "class CustomListener(StreamListener):\n",
    "    \"\"\"Custom StreamListener for streaming Twitter data.\"\"\"\n",
    "\n",
    "    def __init__(self, fname):\n",
    "        safe_fname = format_filename(fname)\n",
    "        self.outfile = \"./json/stream_%s.jsonl\" % safe_fname\n",
    "\n",
    "    def on_data(self, data):\n",
    "        try:\n",
    "            with open(self.outfile, 'a') as f:\n",
    "                f.write(data)\n",
    "                return True\n",
    "        except BaseException as e:\n",
    "            sys.stderr.write(\"Error on_data: {}\\n\".format(e))\n",
    "            time.sleep(5)\n",
    "        return True\n",
    "\n",
    "    def on_error(self, status):\n",
    "        if status == 420:\n",
    "            sys.stderr.write(\"Rate limit exceeded\\n\".format(status))\n",
    "            return False\n",
    "        else:\n",
    "            sys.stderr.write(\"Error {}\\n\".format(status))\n",
    "            return True"
   ]
  },
  {
   "cell_type": "code",
   "execution_count": 14,
   "metadata": {},
   "outputs": [],
   "source": [
    "def format_filename(fname):\n",
    "    \"\"\"Convert fname into a safe string for a file name.\n",
    "\n",
    "    Return: string\n",
    "    \"\"\"\n",
    "    return ''.join(convert_valid(one_char) for one_char in fname)"
   ]
  },
  {
   "cell_type": "code",
   "execution_count": 15,
   "metadata": {},
   "outputs": [],
   "source": [
    "def convert_valid(one_char):\n",
    "    \"\"\"Convert a character into '_' if \"invalid\".\n",
    "\n",
    "    Return: string\n",
    "    \"\"\"\n",
    "    valid_chars = \"-_.%s%s\" % (string.ascii_letters, string.digits)\n",
    "    if one_char in valid_chars:\n",
    "        return one_char\n",
    "    else:\n",
    "        return '_'"
   ]
  },
  {
   "cell_type": "markdown",
   "metadata": {},
   "source": [
    "---\n",
    "Cuando ejecutamos el script siguiente, tenemos que proporcionar argumentos. Estos argumentos, separados por un espacio en blanco, serán las palabras clave utilizadas por el oyente para descargar tweets."
   ]
  },
  {
   "cell_type": "code",
   "execution_count": 17,
   "metadata": {},
   "outputs": [
    {
     "name": "stdout",
     "output_type": "stream",
     "text": [
      "Palabras clabe: #tenis\n"
     ]
    }
   ],
   "source": [
    "query = str(input(\"Palabras clabe: \"))"
   ]
  },
  {
   "cell_type": "code",
   "execution_count": 27,
   "metadata": {},
   "outputs": [],
   "source": [
    "query_fname = ' '.join(query) # string\n",
    "auth = get_twitter_auth()\n",
    "twitter_stream = Stream(auth, CustomListener(query_fname))\n",
    "twitter_stream.filter(track=query, is_async=True)"
   ]
  },
  {
   "cell_type": "markdown",
   "metadata": {},
   "source": [
    "**Ir a la carpeta json y actualizar para ver como funciona**"
   ]
  },
  {
   "cell_type": "markdown",
   "metadata": {},
   "source": [
    "## 6. <a id='twitter_hashtag_frequency'>Twitter hashtag frequency 🔣</a>\n",
    "---"
   ]
  },
  {
   "cell_type": "code",
   "execution_count": 37,
   "metadata": {},
   "outputs": [],
   "source": [
    "import sys\n",
    "from collections import Counter\n",
    "import json"
   ]
  },
  {
   "cell_type": "code",
   "execution_count": 38,
   "metadata": {},
   "outputs": [],
   "source": [
    "def get_hashtags(tweet):\n",
    "    entities = tweet.get('entities', {})\n",
    "    hashtags = entities.get('hashtags', [])\n",
    "    return [tag['text'].lower() for tag in hashtags]"
   ]
  },
  {
   "cell_type": "markdown",
   "metadata": {},
   "source": [
    "Este script toma el nombre de un archivo `.jsonl` como argumento de la línea de comando y lee su contenido, una línea a la vez. Como cada línea contiene un documento JSON, carga el documento en la variable de tweet y utiliza la función auxiliar `get_hashtags()` para extraer una lista de hashtags. Este tipo de entidades se almacenan en la variable hashtags, que se declara como colecciones. Contador, un tipo especial de diccionario que se utiliza para contar objetos hashaable, en nuestro caso, cadenas. El contador contiene las cadenas como teclas del diccionario y su frecuencia respectiva como valores."
   ]
  },
  {
   "cell_type": "code",
   "execution_count": 40,
   "metadata": {},
   "outputs": [
    {
     "name": "stdout",
     "output_type": "stream",
     "text": [
      "Dame la ruta de el '.jsonl' que extraimos antes: ./json/user_timeline_@EvilAFM.jsonl\n"
     ]
    }
   ],
   "source": [
    "fname = str(input(\"Dame la ruta de el '.jsonl' que extraimos antes: \"))"
   ]
  },
  {
   "cell_type": "code",
   "execution_count": 41,
   "metadata": {},
   "outputs": [
    {
     "name": "stdout",
     "output_type": "stream",
     "text": [
      "streamingsolidario: 2\n",
      "humor: 1\n",
      "quedateencasa: 1\n",
      "ad: 1\n",
      "diainternacionaldelgato: 1\n",
      "keepsmiling: 1\n",
      "jedifallenorder: 1\n"
     ]
    }
   ],
   "source": [
    "with open(fname, 'r') as f:\n",
    "    hashtags = Counter()\n",
    "    for line in f:\n",
    "        tweet = json.loads(line)\n",
    "        hashtags_in_tweet = get_hashtags(tweet)\n",
    "        hashtags.update(hashtags_in_tweet)\n",
    "    for tag, count in hashtags.most_common(20):\n",
    "        print(\"{}: {}\".format(tag, count))"
   ]
  },
  {
   "cell_type": "markdown",
   "metadata": {},
   "source": [
    "## 7. <a id='twitter_hashtag_stats'>Twitter hashtag stats 📈</a>\n",
    "---"
   ]
  },
  {
   "cell_type": "code",
   "execution_count": 42,
   "metadata": {},
   "outputs": [],
   "source": [
    "import sys\n",
    "from collections import defaultdict\n",
    "import json"
   ]
  },
  {
   "cell_type": "code",
   "execution_count": 43,
   "metadata": {},
   "outputs": [],
   "source": [
    "def get_hashtags(tweet):\n",
    "    entities = tweet.get('entities', {})\n",
    "    hashtags = entities.get('hashtags', [])\n",
    "    return [tag['text'].lower() for tag in hashtags]"
   ]
  },
  {
   "cell_type": "code",
   "execution_count": 44,
   "metadata": {},
   "outputs": [],
   "source": [
    "def usage():\n",
    "    fname = str(input(\"Dame la ruta de el '.jsonl' que extraimos antes: \"))\n",
    "    print(\"Usage:\")\n",
    "    print(\"python {} <filename.jsonl>\".format(fname))\n",
    "    return fname"
   ]
  },
  {
   "cell_type": "code",
   "execution_count": 45,
   "metadata": {},
   "outputs": [
    {
     "name": "stdout",
     "output_type": "stream",
     "text": [
      "Dame la ruta de el '.jsonl' que extraimos antes: ./json/user_timeline_@EvilAFM.jsonl\n",
      "Usage:\n",
      "python ./json/user_timeline_@EvilAFM.jsonl <filename.jsonl>\n"
     ]
    }
   ],
   "source": [
    "fname = usage()"
   ]
  },
  {
   "cell_type": "code",
   "execution_count": 46,
   "metadata": {},
   "outputs": [
    {
     "name": "stdout",
     "output_type": "stream",
     "text": [
      "3192 tweets without hashtags (99.75%)\n",
      "8 tweets with at least one hashtag (0.25%)\n",
      "8 tweets with 1 hashtags (0.25% total, 100.00% elite)\n"
     ]
    }
   ],
   "source": [
    "with open(fname, 'r') as f:\n",
    "    hashtag_count = defaultdict(int)\n",
    "    for line in f:\n",
    "        tweet = json.loads(line)\n",
    "        hashtags_in_tweet = get_hashtags(tweet)\n",
    "        n_of_hashtags = len(hashtags_in_tweet)\n",
    "        hashtag_count[n_of_hashtags] += 1\n",
    "        \n",
    "    tweets_with_hashtags = sum([count for n_of_tags, count in hashtag_count.items() if n_of_tags > 0])\n",
    "    tweets_no_hashtags = hashtag_count[0]\n",
    "    tweets_total = tweets_no_hashtags + tweets_with_hashtags\n",
    "    tweets_with_hashtags_percent = \"%.2f\" % (tweets_with_hashtags / tweets_total * 100)\n",
    "    tweets_no_hashtags_percent = \"%.2f\" % (tweets_no_hashtags / tweets_total * 100)\n",
    "    print(\"{} tweets without hashtags ({}%)\".format(tweets_no_hashtags, tweets_no_hashtags_percent))\n",
    "    print(\"{} tweets with at least one hashtag ({}%)\".format(tweets_with_hashtags, tweets_with_hashtags_percent))\n",
    "\n",
    "    for tag_count, tweet_count in hashtag_count.items():\n",
    "        if tag_count > 0:\n",
    "            percent_total = \"%.2f\" % (tweet_count / tweets_total * 100)\n",
    "            percent_elite = \"%.2f\" % (tweet_count / tweets_with_hashtags * 100)\n",
    "            print(\"{} tweets with {} hashtags ({}% total, {}% elite)\".format(tweet_count,\n",
    "                                                                                tag_count,\n",
    "                                                                                percent_total,\n",
    "                                                                                percent_elite))"
   ]
  },
  {
   "cell_type": "markdown",
   "metadata": {},
   "source": [
    "## 8. <a id='twitter_mention_frequency'>Twitter mention frequency 📊</a>\n",
    "---"
   ]
  },
  {
   "cell_type": "code",
   "execution_count": 47,
   "metadata": {},
   "outputs": [],
   "source": [
    "import sys\n",
    "from collections import Counter\n",
    "import json"
   ]
  },
  {
   "cell_type": "code",
   "execution_count": 48,
   "metadata": {},
   "outputs": [],
   "source": [
    "def get_mentions(tweet):\n",
    "    entities = tweet.get('entities', {})\n",
    "    hashtags = entities.get('user_mentions', [])\n",
    "    return [tag['screen_name'] for tag in hashtags]"
   ]
  },
  {
   "cell_type": "code",
   "execution_count": 49,
   "metadata": {},
   "outputs": [],
   "source": [
    "def usage():\n",
    "    fname = str(input(\"Dame la ruta de el '.jsonl' que extraimos antes: \"))\n",
    "    print(\"Usage:\")\n",
    "    print(\"python {} <filename.jsonl>\".format(fname))\n",
    "    return fname"
   ]
  },
  {
   "cell_type": "code",
   "execution_count": 50,
   "metadata": {},
   "outputs": [
    {
     "name": "stdout",
     "output_type": "stream",
     "text": [
      "Dame la ruta de el '.jsonl' que extraimos antes: ./json/user_timeline_@EvilAFM.jsonl\n",
      "Usage:\n",
      "python ./json/user_timeline_@EvilAFM.jsonl <filename.jsonl>\n"
     ]
    }
   ],
   "source": [
    "fname = usage()"
   ]
  },
  {
   "cell_type": "code",
   "execution_count": 51,
   "metadata": {},
   "outputs": [
    {
     "name": "stdout",
     "output_type": "stream",
     "text": [
      "Felipez360: 158\n",
      "inyustificado: 99\n",
      "Caith_Sith: 87\n",
      "KrITIK4L: 50\n",
      "YouTube: 43\n",
      "DayoScript: 41\n",
      "fercardenete: 39\n",
      "DualGG: 36\n",
      "BriiHD: 36\n",
      "Sh4rin_Papito: 29\n",
      "F_DaVid_A: 28\n",
      "Outconsumer: 27\n",
      "DriDG7: 26\n",
      "ElRichMC: 24\n",
      "Pazos_64: 23\n",
      "RicardoKails: 18\n",
      "EricRod_LYV: 18\n",
      "nachoMoL: 18\n",
      "sixteenjune: 17\n",
      "KuentinLoL: 16\n"
     ]
    }
   ],
   "source": [
    "with open(fname, 'r') as f:\n",
    "    users = Counter()\n",
    "    for line in f:\n",
    "        tweet = json.loads(line)\n",
    "        mentions_in_tweet = get_mentions(tweet)\n",
    "        users.update(mentions_in_tweet)\n",
    "    for user, count in users.most_common(20):\n",
    "        print(\"{}: {}\".format(user, count))\n"
   ]
  },
  {
   "cell_type": "markdown",
   "metadata": {},
   "source": [
    "## 9. <a id='twitter_term_frequency'>Twitter term frequency 📊</a>\n",
    "---"
   ]
  },
  {
   "cell_type": "markdown",
   "metadata": {},
   "source": [
    "Abra una terminal y pegue el siguiente comando:   \n",
    "> `pip install --user -U nltk`"
   ]
  },
  {
   "cell_type": "markdown",
   "metadata": {},
   "source": [
    "Abra una terminal y escriba lo siguiente\n",
    "> `python`   \n",
    ">`import nltk`   \n",
    ">`nltk.download('stopwords')`\n"
   ]
  },
  {
   "cell_type": "code",
   "execution_count": 52,
   "metadata": {},
   "outputs": [],
   "source": [
    "import sys\n",
    "import string\n",
    "import json\n",
    "from collections import Counter\n",
    "from nltk.tokenize import TweetTokenizer\n",
    "from nltk.corpus import stopwords"
   ]
  },
  {
   "cell_type": "code",
   "execution_count": 53,
   "metadata": {},
   "outputs": [],
   "source": [
    "def process(text, tokenizer=TweetTokenizer(), stopwords=[]):\n",
    "    \"\"\"Process the text of a tweet:\n",
    "    - Lowercase\n",
    "    - Tokenize\n",
    "    - Stopword removal\n",
    "    - Digits removal\n",
    "\n",
    "    Return: list of strings\n",
    "    \"\"\"\n",
    "    text = text.lower()\n",
    "    tokens = tokenizer.tokenize(text)\n",
    "    # If we want to normalize contraction, uncomment this\n",
    "    # tokens = normalize_contractions(tokens)\n",
    "    return [tok for tok in tokens if tok not in stopwords and not tok.isdigit()]"
   ]
  },
  {
   "cell_type": "code",
   "execution_count": 54,
   "metadata": {},
   "outputs": [],
   "source": [
    "def normalize_contractions(tokens):\n",
    "    \"\"\"Example of normalization for English contractions.\n",
    "\n",
    "    Return: generator\n",
    "    \"\"\"\n",
    "    token_map = {\n",
    "        \"i'm\": \"i am\",\n",
    "        \"you're\": \"you are\",\n",
    "        \"it's\": \"it is\",\n",
    "        \"we're\": \"we are\",\n",
    "        \"we'll\": \"we will\",\n",
    "    }\n",
    "    for tok in tokens:\n",
    "        if tok in token_map.keys():\n",
    "            for item in token_map[tok].split():\n",
    "                yield item\n",
    "        else:\n",
    "            yield tok"
   ]
  },
  {
   "cell_type": "code",
   "execution_count": 55,
   "metadata": {},
   "outputs": [],
   "source": [
    "def usage():\n",
    "    fname = str(input(\"Dame la ruta de el '.jsonl' que extraimos antes: \"))\n",
    "    print(\"Usage:\")\n",
    "    print(\"python {} <filename.jsonl>\".format(fname))\n",
    "    return fname"
   ]
  },
  {
   "cell_type": "code",
   "execution_count": 57,
   "metadata": {},
   "outputs": [
    {
     "name": "stdout",
     "output_type": "stream",
     "text": [
      "Dame la ruta de el '.jsonl' que extraimos antes: ./json/user_timeline_@EvilAFM.jsonl\n",
      "Usage:\n",
      "python ./json/user_timeline_@EvilAFM.jsonl <filename.jsonl>\n",
      "que: 2013\n",
      "de: 1845\n",
      "…: 1220\n",
      "la: 1051\n",
      "el: 1003\n",
      "en: 806\n",
      "lo: 789\n",
      "es: 785\n",
      "un: 513\n",
      "pero: 430\n",
      "los: 383\n",
      "si: 360\n",
      "con: 353\n",
      "por: 349\n",
      "para: 324\n",
      "una: 309\n",
      "las: 305\n",
      "ya: 280\n",
      "al: 269\n",
      "se: 257\n",
      "del: 250\n",
      "mi: 240\n",
      "ha: 239\n",
      "xd: 238\n",
      "yo: 238\n",
      "como: 232\n",
      "eso: 213\n",
      "te: 207\n",
      "tengo: 194\n",
      "más: 171\n"
     ]
    }
   ],
   "source": [
    "tweet_tokenizer = TweetTokenizer()\n",
    "punct = list(string.punctuation)\n",
    "stopword_list = stopwords.words('english') + punct + ['rt', 'via']\n",
    "\n",
    "fname = usage()\n",
    "\n",
    "tf = Counter()\n",
    "\n",
    "with open(fname, 'r') as f:\n",
    "    for line in f:\n",
    "        tweet = json.loads(line)\n",
    "        tokens = process(text=tweet.get('text', ''),\n",
    "                            tokenizer=tweet_tokenizer,\n",
    "                            stopwords=stopword_list)\n",
    "        tf.update(tokens)\n",
    "    for tag, count in tf.most_common(30):\n",
    "        print(\"{}: {}\".format(tag, count))"
   ]
  },
  {
   "cell_type": "markdown",
   "metadata": {},
   "source": [
    "## 10. <a id='twitter_term_frequency_graph'>Twitter term frequency graph 📶</a>\n",
    "---"
   ]
  },
  {
   "cell_type": "code",
   "execution_count": 25,
   "metadata": {},
   "outputs": [],
   "source": [
    "import sys\n",
    "import string\n",
    "import json\n",
    "from collections import Counter\n",
    "from nltk.tokenize import TweetTokenizer\n",
    "from nltk.corpus import stopwords\n",
    "import matplotlib.pyplot as plt"
   ]
  },
  {
   "cell_type": "code",
   "execution_count": 26,
   "metadata": {},
   "outputs": [],
   "source": [
    "def process(text, tokenizer=TweetTokenizer(), stopwords=[]):\n",
    "    \"\"\"Process the text of a tweet:\n",
    "    - Lowercase\n",
    "    - Tokenize\n",
    "    - Stopword removal\n",
    "    - Digits removal\n",
    "\n",
    "    Return: list of strings\n",
    "    \"\"\"\n",
    "    text = text.lower()\n",
    "    tokens = tokenizer.tokenize(text)\n",
    "    return [tok for tok in tokens if tok not in stopwords and not tok.isdigit()]"
   ]
  },
  {
   "cell_type": "code",
   "execution_count": 27,
   "metadata": {},
   "outputs": [],
   "source": [
    "def usage():\n",
    "    fname = str(input(\"Dame la ruta de el '.jsonl' que extraimos antes: \"))\n",
    "    print(\"Usage:\")\n",
    "    print(\"python {} <filename.jsonl>\".format(fname))\n",
    "    return fname"
   ]
  },
  {
   "cell_type": "code",
   "execution_count": 60,
   "metadata": {},
   "outputs": [
    {
     "name": "stdout",
     "output_type": "stream",
     "text": [
      "Dame la ruta de el '.jsonl' que extraimos antes: ./json/user_timeline_@EvilAFM.jsonl\n",
      "Usage:\n",
      "python ./json/user_timeline_@EvilAFM.jsonl <filename.jsonl>\n"
     ]
    },
    {
     "data": {
      "image/png": "[encoded data removed]",
      "text/plain": [
       "<Figure size 432x288 with 1 Axes>"
      ]
     },
     "metadata": {
      "needs_background": "light"
     },
     "output_type": "display_data"
    },
    {
     "data": {
      "text/plain": [
       "<Figure size 432x288 with 0 Axes>"
      ]
     },
     "metadata": {},
     "output_type": "display_data"
    }
   ],
   "source": [
    "tweet_tokenizer = TweetTokenizer()\n",
    "punct = list(string.punctuation)\n",
    "stopword_list = stopwords.words('english') + punct + ['rt', 'via']\n",
    "\n",
    "fname = usage()\n",
    "tf = Counter()\n",
    "\n",
    "with open(fname, 'r') as f:\n",
    "    for line in f:\n",
    "        tweet = json.loads(line)\n",
    "        tokens = process(text=tweet.get('text', ''),\n",
    "                            tokenizer=tweet_tokenizer,\n",
    "                            stopwords=stopword_list)\n",
    "        tf.update(tokens)\n",
    "    y = [count for tag, count in tf.most_common(30)]\n",
    "    x = range(1, len(y)+1)\n",
    "\n",
    "    plt.bar(x, y)\n",
    "    plt.title(\"Term Frequencies\")\n",
    "    plt.ylabel(\"Frequency\")\n",
    "    plt.savefig('./images/term_distribution.png')\n",
    "    plt.show()\n",
    "    plt.tight_layout();"
   ]
  },
  {
   "cell_type": "markdown",
   "metadata": {},
   "source": [
    "## 11. <a id='twitter_time_series'>twitter_time_series ⏱️</a>\n",
    "---"
   ]
  },
  {
   "cell_type": "code",
   "execution_count": 29,
   "metadata": {},
   "outputs": [],
   "source": [
    "import sys\n",
    "import json\n",
    "import pandas as pd\n",
    "import numpy as np\n",
    "import pickle\n",
    "\n",
    "from matplotlib import pyplot"
   ]
  },
  {
   "cell_type": "code",
   "execution_count": 30,
   "metadata": {},
   "outputs": [],
   "source": [
    "from datetime import datetime"
   ]
  },
  {
   "cell_type": "code",
   "execution_count": 31,
   "metadata": {},
   "outputs": [],
   "source": [
    "def usage():\n",
    "    fname = str(input(\"Dame la ruta de el '.jsonl' que extraimos antes: \"))\n",
    "    print(\"Usage:\")\n",
    "    print(\"python {} <filename.jsonl>\".format(fname))\n",
    "    return fname"
   ]
  },
  {
   "cell_type": "code",
   "execution_count": 35,
   "metadata": {},
   "outputs": [
    {
     "name": "stdout",
     "output_type": "stream",
     "text": [
      "Dame la ruta de el '.jsonl' que extraimos antes: ./json/user_timeline_@EvilAFM.jsonl\n",
      "Usage:\n",
      "python ./json/user_timeline_@EvilAFM.jsonl <filename.jsonl>\n",
      "2020-07-07 08:51:09+00:00    1.0\n",
      "2020-07-07 08:31:56+00:00    1.0\n",
      "2020-07-07 08:22:42+00:00    1.0\n",
      "2020-07-07 08:22:11+00:00    1.0\n",
      "2020-07-07 08:20:11+00:00    1.0\n",
      "dtype: float64\n",
      "2019-12-31 00:00:00+00:00    226.0\n",
      "2020-01-31 00:00:00+00:00    698.0\n",
      "2020-02-29 00:00:00+00:00    624.0\n",
      "2020-03-31 00:00:00+00:00    611.0\n",
      "2020-04-30 00:00:00+00:00    443.0\n",
      "Freq: M, dtype: float64\n"
     ]
    },
    {
     "data": {
      "image/png": "[encoded data removed]",
      "text/plain": [
       "<Figure size 432x288 with 1 Axes>"
      ]
     },
     "metadata": {
      "needs_background": "light"
     },
     "output_type": "display_data"
    },
    {
     "data": {
      "text/plain": [
       "<Figure size 432x288 with 0 Axes>"
      ]
     },
     "metadata": {},
     "output_type": "display_data"
    }
   ],
   "source": [
    "fname = usage()\n",
    "\n",
    "with open(fname, 'r') as f:\n",
    "    all_dates = []\n",
    "    for line in f:\n",
    "        tweet = json.loads(line)\n",
    "        all_dates.append(tweet.get('created_at'))\n",
    "    ones = np.ones(len(all_dates))\n",
    "    idx = pd.DatetimeIndex(all_dates)\n",
    "    # the actual series (at series of 1s for the moment)\n",
    "    my_series = pd.Series(ones, index=idx)\n",
    "\n",
    "    # Resampling / bucketing into month buckets\n",
    "    per_month  = my_series.resample('M').sum()\n",
    "    print(my_series.head())\n",
    "    print(per_month.head())\n",
    "    \n",
    "    per_month.plot()\n",
    "    \n",
    "    plt.savefig('./images/tweet_time_series.png')\n",
    "    pyplot.show();\n",
    "    plt.tight_layout();"
   ]
  }
 ],
 "metadata": {
  "kernelspec": {
   "display_name": "Python 3",
   "language": "python",
   "name": "python3"
  },
  "language_info": {
   "codemirror_mode": {
    "name": "ipython",
    "version": 3
   },
   "file_extension": ".py",
   "mimetype": "text/x-python",
   "name": "python",
   "nbconvert_exporter": "python",
   "pygments_lexer": "ipython3",
   "version": "3.7.6"
  }
 },
 "nbformat": 4,
 "nbformat_minor": 4
}
