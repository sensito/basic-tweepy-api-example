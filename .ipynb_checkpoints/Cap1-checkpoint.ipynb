{
 "cells": [
  {
   "cell_type": "markdown",
   "metadata": {},
   "source": [
    "# Chap01/demo_gensim.py"
   ]
  },
  {
   "cell_type": "code",
   "execution_count": 1,
   "metadata": {},
   "outputs": [
    {
     "name": "stdout",
     "output_type": "stream",
     "text": [
      "1) \"\"\"Entry point for launching an IPython kernel.\n",
      "2) This is separate from the ipykernel package so we can avoid doing imports until\n",
      "3) after removing the cwd from sys.path.\n",
      "4) import sys\n",
      "5) if __name__ == '__main__':\n",
      "6) # Remove the CWD from sys.path while we load stuff.\n",
      "7) # This is added back by InteractiveShellApp.init_path()\n",
      "8) if sys.path[0] == '':\n",
      "9) del sys.path[0]\n",
      "10) from ipykernel import kernelapp as app\n",
      "11) app.launch_new_instance()\n"
     ]
    }
   ],
   "source": [
    "from gensim.summarization import summarize\n",
    "import sys\n",
    "\n",
    "fname = sys.argv[0]\n",
    "\n",
    "with open(fname, 'r') as f:\n",
    "    content = f.read()\n",
    "    summary = summarize(content, split=True, word_count=100)\n",
    "    for i, sentence in enumerate(summary):\n",
    "        print(\"%d) %s\" % (i+1, sentence))"
   ]
  },
  {
   "cell_type": "markdown",
   "metadata": {},
   "source": [
    "# Chap01/demo_json.py"
   ]
  },
  {
   "cell_type": "code",
   "execution_count": 38,
   "metadata": {},
   "outputs": [
    {
     "name": "stdout",
     "output_type": "stream",
     "text": [
      "Marco\n"
     ]
    }
   ],
   "source": [
    "import json\n",
    "\n",
    "user_json = '{\"user_id\": \"1\", \"name\": \"Marco\"}'\n",
    "user_data = json.loads(user_json)\n",
    "print(user_data['name'])"
   ]
  },
  {
   "cell_type": "markdown",
   "metadata": {},
   "source": [
    " ----\n",
    "    \"\"\"\n",
    "    Output: \n",
    "    {\n",
    "        \"user_id\": \"1\",\n",
    "        \"name\": \"Marco\",\n",
    "        \"likes\": [\n",
    "            \"Python\",\n",
    "            \"Data Mining\"\n",
    "        ]\n",
    "    }\n",
    "    \"\"\""
   ]
  },
  {
   "cell_type": "code",
   "execution_count": 42,
   "metadata": {},
   "outputs": [
    {
     "name": "stdout",
     "output_type": "stream",
     "text": [
      "{\n",
      "    \"user_id\": \"1\",\n",
      "    \"name\": \"Marco\",\n",
      "    \"likes\": [\n",
      "        \"Python\",\n",
      "        \"Data Mining\"\n",
      "    ]\n",
      "}\n"
     ]
    }
   ],
   "source": [
    "# Output: Marco\n",
    "user_data['likes'] = ['Python', 'Data Mining']\n",
    "user_json = json.dumps(user_data, indent=4)\n",
    "print(user_json)"
   ]
  },
  {
   "cell_type": "markdown",
   "metadata": {},
   "source": [
    "# Chap01/demo_matplotlib.py"
   ]
  },
  {
   "cell_type": "code",
   "execution_count": 46,
   "metadata": {},
   "outputs": [
    {
     "data": {
      "image/png": "[encoded data removed]",
      "text/plain": [
       "<Figure size 432x288 with 1 Axes>"
      ]
     },
     "metadata": {
      "needs_background": "light"
     },
     "output_type": "display_data"
    }
   ],
   "source": [
    "import matplotlib.pyplot as plt\n",
    "import numpy as np\n",
    "\n",
    "# plot y = x^2 with red dots\n",
    "x = np.array([1, 2, 3, 4, 5])\n",
    "y = x * x\n",
    "\n",
    "plt.plot(x, y, 'ro')\n",
    "plt.axis([0, 6, 0, 30])\n",
    "plt.savefig('./images/demo_plot.png')"
   ]
  },
  {
   "cell_type": "markdown",
   "metadata": {},
   "source": [
    "# Chap01/demo_networkx.py"
   ]
  },
  {
   "cell_type": "code",
   "execution_count": 4,
   "metadata": {},
   "outputs": [],
   "source": [
    "import networkx as nx\n",
    "from datetime import datetime\n",
    "\n",
    "g = nx.Graph()\n",
    "g.add_node('Anu', name='Anu', age=30)\n",
    "g.add_node(\"Peter\", name= 'Peter', age= 35)\n",
    "g.add_node(\"Mary\", name='Mary', age= 31)\n",
    "g.add_node(\"Lucy\", name= 'Lucy', age= 19)\n",
    "\n",
    "g.add_edge(\"John\", \"Mary\", type= 'friend', since= datetime.today())\n",
    "g.add_edge(\"John\", \"Peter\", type= 'friend', since= datetime(1990, 7, 30))\n",
    "g.add_edge(\"Mary\", \"Lucy\", type= 'friend', since= datetime(2010, 8, 10))"
   ]
  },
  {
   "cell_type": "code",
   "execution_count": 5,
   "metadata": {},
   "outputs": [
    {
     "data": {
      "text/plain": [
       "NodeView(('Anu', 'Peter', 'Mary', 'Lucy', 'John'))"
      ]
     },
     "execution_count": 5,
     "metadata": {},
     "output_type": "execute_result"
    }
   ],
   "source": [
    "g.nodes()"
   ]
  },
  {
   "cell_type": "code",
   "execution_count": 6,
   "metadata": {},
   "outputs": [
    {
     "data": {
      "text/plain": [
       "EdgeView([('Peter', 'John'), ('Mary', 'John'), ('Mary', 'Lucy')])"
      ]
     },
     "execution_count": 6,
     "metadata": {},
     "output_type": "execute_result"
    }
   ],
   "source": [
    "g.edges()"
   ]
  },
  {
   "cell_type": "code",
   "execution_count": 7,
   "metadata": {},
   "outputs": [
    {
     "data": {
      "text/plain": [
       "True"
      ]
     },
     "execution_count": 7,
     "metadata": {},
     "output_type": "execute_result"
    }
   ],
   "source": [
    "g.has_edge(\"Lucy\", \"Mary\")"
   ]
  },
  {
   "cell_type": "markdown",
   "metadata": {},
   "source": [
    "# Chap01/demo_numpy.py"
   ]
  },
  {
   "cell_type": "code",
   "execution_count": 8,
   "metadata": {},
   "outputs": [
    {
     "name": "stdout",
     "output_type": "stream",
     "text": [
      "Time for built-in sum(): 0.7894068999999999\n",
      "Time for np.sum(): 0.08401410000000009\n"
     ]
    }
   ],
   "source": [
    "from timeit import timeit\n",
    "import numpy as np\n",
    "\n",
    "setup_sum = 'data = list(range(10000))'\n",
    "setup_np = 'import numpy as np;'\n",
    "setup_np += 'data_np = np.array(list(range(10000)))'\n",
    "    \n",
    "run_sum = 'result = sum(data)'\n",
    "run_np = 'result = np.sum(data_np)'\n",
    "\n",
    "time_sum = timeit(run_sum, setup=setup_sum, number=10000)\n",
    "time_np = timeit(run_np, setup=setup_np, number=10000)\n",
    "\n",
    "print(\"Time for built-in sum(): {}\".format(time_sum))\n",
    "print(\"Time for np.sum(): {}\".format(time_np))"
   ]
  },
  {
   "cell_type": "markdown",
   "metadata": {},
   "source": [
    "# Chap01/demo_sklearn.py"
   ]
  },
  {
   "cell_type": "code",
   "execution_count": 9,
   "metadata": {},
   "outputs": [],
   "source": [
    "from sklearn import datasets\n",
    "from sklearn.cluster import KMeans\n",
    "import matplotlib.pyplot as plt"
   ]
  },
  {
   "cell_type": "markdown",
   "metadata": {},
   "source": [
    "## Load the data"
   ]
  },
  {
   "cell_type": "code",
   "execution_count": 10,
   "metadata": {},
   "outputs": [],
   "source": [
    "iris = datasets.load_iris()\n",
    "X = iris.data\n",
    "petal_length = X[:, 2]\n",
    "petal_width = X[:, 3]\n",
    "true_labels = iris.target"
   ]
  },
  {
   "cell_type": "markdown",
   "metadata": {},
   "source": [
    "## Apply KMeans clustering"
   ]
  },
  {
   "cell_type": "code",
   "execution_count": 11,
   "metadata": {},
   "outputs": [],
   "source": [
    "estimator = KMeans(n_clusters=3)\n",
    "estimator.fit(X)\n",
    "predicted_labels = estimator.labels_"
   ]
  },
  {
   "cell_type": "markdown",
   "metadata": {},
   "source": [
    "## Color scheme definition: red, yellow and blue"
   ]
  },
  {
   "cell_type": "code",
   "execution_count": 12,
   "metadata": {},
   "outputs": [],
   "source": [
    "color_scheme = ['r', 'y', 'b']"
   ]
  },
  {
   "cell_type": "markdown",
   "metadata": {},
   "source": [
    "## Markers definition: circle, \"x\" and \"plus\""
   ]
  },
  {
   "cell_type": "code",
   "execution_count": 13,
   "metadata": {},
   "outputs": [],
   "source": [
    "marker_list = ['x', 'o', '+']"
   ]
  },
  {
   "cell_type": "markdown",
   "metadata": {},
   "source": [
    "## Assign colors/markers to the predicted labels"
   ]
  },
  {
   "cell_type": "code",
   "execution_count": 20,
   "metadata": {},
   "outputs": [],
   "source": [
    "colors_predicted_labels = [color_scheme[lab] for lab in predicted_labels]\n",
    "markers_predicted = [marker_list[lab] for lab in predicted_labels]"
   ]
  },
  {
   "cell_type": "markdown",
   "metadata": {},
   "source": [
    "## Assign colors/markers to the true labels"
   ]
  },
  {
   "cell_type": "code",
   "execution_count": 22,
   "metadata": {},
   "outputs": [],
   "source": [
    "colors_true_labels = [color_scheme[lab] for lab in true_labels]\n",
    "markers_true = [marker_list[lab] for lab in true_labels]"
   ]
  },
  {
   "cell_type": "markdown",
   "metadata": {},
   "source": [
    "## Plot and save the two scatter plots"
   ]
  },
  {
   "cell_type": "code",
   "execution_count": 27,
   "metadata": {},
   "outputs": [
    {
     "name": "stdout",
     "output_type": "stream",
     "text": [
      "['setosa' 'versicolor' 'virginica']\n"
     ]
    },
    {
     "data": {
      "image/png": "[encoded data removed]",
      "text/plain": [
       "<Figure size 432x288 with 1 Axes>"
      ]
     },
     "metadata": {
      "needs_background": "light"
     },
     "output_type": "display_data"
    }
   ],
   "source": [
    "for x, y, c, m in zip(petal_width,\n",
    "                        petal_length,\n",
    "                        colors_predicted_labels,\n",
    "                        markers_predicted):\n",
    "    plt.scatter(x, y, c=c, marker=m)\n",
    "plt.savefig('./images/iris_clusters.png')\n",
    "\n",
    "for x, y, c, m in zip(petal_width,\n",
    "                        petal_length,\n",
    "                        colors_true_labels,\n",
    "                        markers_true):\n",
    "    plt.scatter(x, y, c=c, marker=m)\n",
    "plt.savefig('./images/iris_true_labels.png')\n",
    "\n",
    "print(iris.target_names)"
   ]
  }
 ],
 "metadata": {
  "kernelspec": {
   "display_name": "Python 3",
   "language": "python",
   "name": "python3"
  },
  "language_info": {
   "codemirror_mode": {
    "name": "ipython",
    "version": 3
   },
   "file_extension": ".py",
   "mimetype": "text/x-python",
   "name": "python",
   "nbconvert_exporter": "python",
   "pygments_lexer": "ipython3",
   "version": "3.7.6"
  }
 },
 "nbformat": 4,
 "nbformat_minor": 4
}
